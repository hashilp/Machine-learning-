{
 "cells": [
  {
   "cell_type": "markdown",
   "id": "1dbd564a-1788-43ad-be9f-d048968d3b8d",
   "metadata": {},
   "source": [
    "# ML - Task2 - Hypothesis testing\n"
   ]
  },
  {
   "cell_type": "markdown",
   "id": "db34b482-7b7b-4a12-b49a-8d29a94488b3",
   "metadata": {},
   "source": [
    "### Q1.Suppose a child psychologist claims that the average time working mothers spend talking to their children is at least 11 minutes per day.\n",
    "You conduct a random sample of 1000 working mothers and find they spend an average of 11.5 minutes per day talking with their children.\n",
    "Assume prior research suggests the population standard deviation is 2.3 minutes.Conduct a test with a level of significance of alpha = 0.05.\n"
   ]
  },
  {
   "cell_type": "code",
   "execution_count": 3,
   "id": "019f6859-097d-4483-a081-1166b410318a",
   "metadata": {},
   "outputs": [],
   "source": [
    "import matplotlib.pyplot as plt"
   ]
  },
  {
   "cell_type": "code",
   "execution_count": 5,
   "id": "9e116931-778c-4bb7-9a8e-68e51b0135f0",
   "metadata": {},
   "outputs": [
    {
     "name": "stdout",
     "output_type": "stream",
     "text": [
      "Collecting scipy\n",
      "  Downloading scipy-1.13.0-cp311-cp311-win_amd64.whl (46.2 MB)\n",
      "                                              0.0/46.2 MB ? eta -:--:--\n",
      "                                              0.1/46.2 MB 2.6 MB/s eta 0:00:19\n",
      "                                              0.4/46.2 MB 4.5 MB/s eta 0:00:11\n",
      "                                              0.7/46.2 MB 5.6 MB/s eta 0:00:09\n",
      "                                              1.1/46.2 MB 6.4 MB/s eta 0:00:08\n",
      "     -                                        1.4/46.2 MB 6.4 MB/s eta 0:00:08\n",
      "     -                                        1.8/46.2 MB 6.7 MB/s eta 0:00:07\n",
      "     -                                        2.2/46.2 MB 7.0 MB/s eta 0:00:07\n",
      "     --                                       2.5/46.2 MB 7.0 MB/s eta 0:00:07\n",
      "     --                                       2.9/46.2 MB 7.1 MB/s eta 0:00:07\n",
      "     --                                       3.2/46.2 MB 7.1 MB/s eta 0:00:07\n",
      "     ---                                      3.5/46.2 MB 7.0 MB/s eta 0:00:07\n",
      "     ---                                      3.7/46.2 MB 7.0 MB/s eta 0:00:07\n",
      "     ---                                      4.2/46.2 MB 7.0 MB/s eta 0:00:06\n",
      "     ---                                      4.5/46.2 MB 7.1 MB/s eta 0:00:06\n",
      "     ----                                     4.9/46.2 MB 7.1 MB/s eta 0:00:06\n",
      "     ----                                     5.2/46.2 MB 7.1 MB/s eta 0:00:06\n",
      "     ----                                     5.6/46.2 MB 7.1 MB/s eta 0:00:06\n",
      "     -----                                    5.9/46.2 MB 7.1 MB/s eta 0:00:06\n",
      "     -----                                    6.2/46.2 MB 7.1 MB/s eta 0:00:06\n",
      "     -----                                    6.6/46.2 MB 7.1 MB/s eta 0:00:06\n",
      "     -----                                    6.9/46.2 MB 7.1 MB/s eta 0:00:06\n",
      "     ------                                   7.2/46.2 MB 7.1 MB/s eta 0:00:06\n",
      "     ------                                   7.5/46.2 MB 7.1 MB/s eta 0:00:06\n",
      "     ------                                   7.9/46.2 MB 7.1 MB/s eta 0:00:06\n",
      "     -------                                  8.3/46.2 MB 7.1 MB/s eta 0:00:06\n",
      "     -------                                  8.6/46.2 MB 7.1 MB/s eta 0:00:06\n",
      "     -------                                  8.9/46.2 MB 7.1 MB/s eta 0:00:06\n",
      "     -------                                  9.2/46.2 MB 7.2 MB/s eta 0:00:06\n",
      "     --------                                 9.6/46.2 MB 7.2 MB/s eta 0:00:06\n",
      "     --------                                 9.8/46.2 MB 7.1 MB/s eta 0:00:06\n",
      "     --------                                 10.3/46.2 MB 7.2 MB/s eta 0:00:05\n",
      "     ---------                                10.5/46.2 MB 7.3 MB/s eta 0:00:05\n",
      "     ---------                                10.9/46.2 MB 7.3 MB/s eta 0:00:05\n",
      "     ---------                                11.3/46.2 MB 7.4 MB/s eta 0:00:05\n",
      "     ----------                               11.6/46.2 MB 7.4 MB/s eta 0:00:05\n",
      "     ----------                               11.9/46.2 MB 7.4 MB/s eta 0:00:05\n",
      "     ----------                               12.3/46.2 MB 7.3 MB/s eta 0:00:05\n",
      "     ----------                               12.6/46.2 MB 7.3 MB/s eta 0:00:05\n",
      "     -----------                              12.9/46.2 MB 7.2 MB/s eta 0:00:05\n",
      "     -----------                              13.2/46.2 MB 7.2 MB/s eta 0:00:05\n",
      "     -----------                              13.6/46.2 MB 7.2 MB/s eta 0:00:05\n",
      "     -----------                              13.8/46.2 MB 7.2 MB/s eta 0:00:05\n",
      "     ------------                             14.0/46.2 MB 7.2 MB/s eta 0:00:05\n",
      "     ------------                             14.3/46.2 MB 7.2 MB/s eta 0:00:05\n",
      "     ------------                             14.7/46.2 MB 7.1 MB/s eta 0:00:05\n",
      "     ------------                             14.9/46.2 MB 7.0 MB/s eta 0:00:05\n",
      "     -------------                            15.1/46.2 MB 7.0 MB/s eta 0:00:05\n",
      "     -------------                            15.4/46.2 MB 7.0 MB/s eta 0:00:05\n",
      "     -------------                            15.9/46.2 MB 6.9 MB/s eta 0:00:05\n",
      "     -------------                            16.1/46.2 MB 6.9 MB/s eta 0:00:05\n",
      "     --------------                           16.4/46.2 MB 6.9 MB/s eta 0:00:05\n",
      "     --------------                           16.7/46.2 MB 6.8 MB/s eta 0:00:05\n",
      "     --------------                           17.0/46.2 MB 6.8 MB/s eta 0:00:05\n",
      "     --------------                           17.3/46.2 MB 6.8 MB/s eta 0:00:05\n",
      "     ---------------                          17.6/46.2 MB 6.8 MB/s eta 0:00:05\n",
      "     ---------------                          17.8/46.2 MB 6.8 MB/s eta 0:00:05\n",
      "     ---------------                          18.1/46.2 MB 6.7 MB/s eta 0:00:05\n",
      "     ---------------                          18.4/46.2 MB 6.6 MB/s eta 0:00:05\n",
      "     ----------------                         18.7/46.2 MB 6.6 MB/s eta 0:00:05\n",
      "     ----------------                         19.0/46.2 MB 6.5 MB/s eta 0:00:05\n",
      "     ----------------                         19.2/46.2 MB 6.5 MB/s eta 0:00:05\n",
      "     ----------------                         19.5/46.2 MB 6.5 MB/s eta 0:00:05\n",
      "     -----------------                        19.8/46.2 MB 6.4 MB/s eta 0:00:05\n",
      "     -----------------                        20.1/46.2 MB 6.5 MB/s eta 0:00:05\n",
      "     -----------------                        20.4/46.2 MB 6.4 MB/s eta 0:00:05\n",
      "     -----------------                        20.7/46.2 MB 6.4 MB/s eta 0:00:05\n",
      "     ------------------                       21.0/46.2 MB 6.4 MB/s eta 0:00:04\n",
      "     ------------------                       21.0/46.2 MB 6.4 MB/s eta 0:00:04\n",
      "     ------------------                       21.0/46.2 MB 6.4 MB/s eta 0:00:04\n",
      "     ------------------                       21.0/46.2 MB 6.4 MB/s eta 0:00:04\n",
      "     ------------------                       21.0/46.2 MB 6.4 MB/s eta 0:00:04\n",
      "     ------------------                       21.0/46.2 MB 6.4 MB/s eta 0:00:04\n",
      "     ------------------                       21.0/46.2 MB 5.4 MB/s eta 0:00:05\n",
      "     ------------------                       21.4/46.2 MB 5.5 MB/s eta 0:00:05\n",
      "     --------------------                     23.2/46.2 MB 6.2 MB/s eta 0:00:04\n",
      "     --------------------                     23.4/46.2 MB 6.1 MB/s eta 0:00:04\n",
      "     --------------------                     23.8/46.2 MB 6.2 MB/s eta 0:00:04\n",
      "     --------------------                     24.1/46.2 MB 6.1 MB/s eta 0:00:04\n",
      "     ---------------------                    24.5/46.2 MB 6.2 MB/s eta 0:00:04\n",
      "     ---------------------                    24.7/46.2 MB 6.1 MB/s eta 0:00:04\n",
      "     ---------------------                    25.0/46.2 MB 6.1 MB/s eta 0:00:04\n",
      "     ---------------------                    25.3/46.2 MB 6.1 MB/s eta 0:00:04\n",
      "     ----------------------                   25.4/46.2 MB 6.1 MB/s eta 0:00:04\n",
      "     ----------------------                   25.8/46.2 MB 6.1 MB/s eta 0:00:04\n",
      "     ----------------------                   26.1/46.2 MB 6.0 MB/s eta 0:00:04\n",
      "     ----------------------                   26.3/46.2 MB 6.1 MB/s eta 0:00:04\n",
      "     -----------------------                  26.6/46.2 MB 6.0 MB/s eta 0:00:04\n",
      "     -----------------------                  26.8/46.2 MB 6.0 MB/s eta 0:00:04\n",
      "     -----------------------                  27.1/46.2 MB 6.0 MB/s eta 0:00:04\n",
      "     -----------------------                  27.4/46.2 MB 6.0 MB/s eta 0:00:04\n",
      "     -----------------------                  27.6/46.2 MB 6.0 MB/s eta 0:00:04\n",
      "     ------------------------                 27.8/46.2 MB 5.9 MB/s eta 0:00:04\n",
      "     ------------------------                 28.1/46.2 MB 6.0 MB/s eta 0:00:04\n",
      "     ------------------------                 28.5/46.2 MB 6.0 MB/s eta 0:00:03\n",
      "     ------------------------                 28.7/46.2 MB 6.0 MB/s eta 0:00:03\n",
      "     -------------------------                29.0/46.2 MB 6.0 MB/s eta 0:00:03\n",
      "     -------------------------                29.3/46.2 MB 6.0 MB/s eta 0:00:03\n",
      "     -------------------------                29.6/46.2 MB 6.0 MB/s eta 0:00:03\n",
      "     -------------------------                29.8/46.2 MB 6.0 MB/s eta 0:00:03\n",
      "     -------------------------                30.0/46.2 MB 5.9 MB/s eta 0:00:03\n",
      "     --------------------------               30.3/46.2 MB 5.9 MB/s eta 0:00:03\n",
      "     --------------------------               30.6/46.2 MB 5.9 MB/s eta 0:00:03\n",
      "     --------------------------               30.9/46.2 MB 5.9 MB/s eta 0:00:03\n",
      "     --------------------------               31.1/46.2 MB 5.8 MB/s eta 0:00:03\n",
      "     ---------------------------              31.4/46.2 MB 6.9 MB/s eta 0:00:03\n",
      "     ---------------------------              31.7/46.2 MB 6.8 MB/s eta 0:00:03\n",
      "     ---------------------------              32.0/46.2 MB 6.6 MB/s eta 0:00:03\n",
      "     ---------------------------              32.3/46.2 MB 6.5 MB/s eta 0:00:03\n",
      "     ----------------------------             32.5/46.2 MB 6.4 MB/s eta 0:00:03\n",
      "     ----------------------------             32.9/46.2 MB 6.1 MB/s eta 0:00:03\n",
      "     ----------------------------             33.2/46.2 MB 6.0 MB/s eta 0:00:03\n",
      "     ----------------------------             33.5/46.2 MB 5.9 MB/s eta 0:00:03\n",
      "     -----------------------------            33.7/46.2 MB 6.0 MB/s eta 0:00:03\n",
      "     -----------------------------            34.0/46.2 MB 5.8 MB/s eta 0:00:03\n",
      "     -----------------------------            34.3/46.2 MB 5.9 MB/s eta 0:00:03\n",
      "     -----------------------------            34.5/46.2 MB 5.9 MB/s eta 0:00:02\n",
      "     ------------------------------           34.9/46.2 MB 5.8 MB/s eta 0:00:02\n",
      "     ------------------------------           35.1/46.2 MB 5.9 MB/s eta 0:00:02\n",
      "     ------------------------------           35.4/46.2 MB 5.8 MB/s eta 0:00:02\n",
      "     ------------------------------           35.7/46.2 MB 6.0 MB/s eta 0:00:02\n",
      "     -------------------------------          36.0/46.2 MB 6.0 MB/s eta 0:00:02\n",
      "     -------------------------------          36.4/46.2 MB 6.0 MB/s eta 0:00:02\n",
      "     -------------------------------          36.7/46.2 MB 6.0 MB/s eta 0:00:02\n",
      "     --------------------------------         37.0/46.2 MB 6.0 MB/s eta 0:00:02\n",
      "     --------------------------------         37.2/46.2 MB 6.0 MB/s eta 0:00:02\n",
      "     --------------------------------         37.4/46.2 MB 5.9 MB/s eta 0:00:02\n",
      "     --------------------------------         37.7/46.2 MB 5.9 MB/s eta 0:00:02\n",
      "     --------------------------------         38.0/46.2 MB 6.0 MB/s eta 0:00:02\n",
      "     ---------------------------------        38.3/46.2 MB 6.0 MB/s eta 0:00:02\n",
      "     ---------------------------------        38.5/46.2 MB 6.0 MB/s eta 0:00:02\n",
      "     ---------------------------------        38.8/46.2 MB 6.0 MB/s eta 0:00:02\n",
      "     ---------------------------------        39.1/46.2 MB 6.0 MB/s eta 0:00:02\n",
      "     ----------------------------------       39.4/46.2 MB 6.0 MB/s eta 0:00:02\n",
      "     ----------------------------------       39.7/46.2 MB 6.0 MB/s eta 0:00:02\n",
      "     ----------------------------------       39.9/46.2 MB 6.0 MB/s eta 0:00:02\n",
      "     ----------------------------------       40.2/46.2 MB 6.0 MB/s eta 0:00:02\n",
      "     -----------------------------------      40.4/46.2 MB 6.0 MB/s eta 0:00:01\n",
      "     -----------------------------------      40.7/46.2 MB 6.0 MB/s eta 0:00:01\n",
      "     -----------------------------------      41.1/46.2 MB 6.1 MB/s eta 0:00:01\n",
      "     -----------------------------------      41.3/46.2 MB 6.1 MB/s eta 0:00:01\n",
      "     ------------------------------------     41.6/46.2 MB 6.1 MB/s eta 0:00:01\n",
      "     ------------------------------------     41.9/46.2 MB 6.0 MB/s eta 0:00:01\n",
      "     ------------------------------------     42.2/46.2 MB 6.1 MB/s eta 0:00:01\n",
      "     ------------------------------------     42.4/46.2 MB 6.0 MB/s eta 0:00:01\n",
      "     ------------------------------------     42.7/46.2 MB 6.0 MB/s eta 0:00:01\n",
      "     -------------------------------------    43.0/46.2 MB 6.0 MB/s eta 0:00:01\n",
      "     -------------------------------------    43.4/46.2 MB 6.0 MB/s eta 0:00:01\n",
      "     -------------------------------------    43.7/46.2 MB 6.0 MB/s eta 0:00:01\n",
      "     --------------------------------------   44.1/46.2 MB 6.0 MB/s eta 0:00:01\n",
      "     --------------------------------------   44.3/46.2 MB 6.0 MB/s eta 0:00:01\n",
      "     --------------------------------------   44.7/46.2 MB 6.0 MB/s eta 0:00:01\n",
      "     ---------------------------------------  45.1/46.2 MB 6.0 MB/s eta 0:00:01\n",
      "     ---------------------------------------  45.5/46.2 MB 6.0 MB/s eta 0:00:01\n",
      "     ---------------------------------------  45.8/46.2 MB 6.1 MB/s eta 0:00:01\n",
      "     ---------------------------------------  46.0/46.2 MB 6.0 MB/s eta 0:00:01\n",
      "     ---------------------------------------  46.2/46.2 MB 6.0 MB/s eta 0:00:01\n",
      "     ---------------------------------------  46.2/46.2 MB 6.0 MB/s eta 0:00:01\n",
      "     ---------------------------------------  46.2/46.2 MB 6.0 MB/s eta 0:00:01\n",
      "     ---------------------------------------  46.2/46.2 MB 6.0 MB/s eta 0:00:01\n",
      "     ---------------------------------------  46.2/46.2 MB 6.0 MB/s eta 0:00:01\n",
      "     ---------------------------------------  46.2/46.2 MB 6.0 MB/s eta 0:00:01\n",
      "     ---------------------------------------  46.2/46.2 MB 6.0 MB/s eta 0:00:01\n",
      "     ---------------------------------------- 46.2/46.2 MB 4.9 MB/s eta 0:00:00\n",
      "Requirement already satisfied: numpy<2.3,>=1.22.4 in c:\\users\\lenovo\\appdata\\local\\programs\\python\\python311\\lib\\site-packages (from scipy) (1.26.1)\n",
      "Installing collected packages: scipy\n",
      "Successfully installed scipy-1.13.0\n",
      "Note: you may need to restart the kernel to use updated packages.\n"
     ]
    },
    {
     "name": "stderr",
     "output_type": "stream",
     "text": [
      "\n",
      "[notice] A new release of pip is available: 23.1.2 -> 24.0\n",
      "[notice] To update, run: python.exe -m pip install --upgrade pip\n"
     ]
    }
   ],
   "source": [
    "pip install scipy"
   ]
  },
  {
   "cell_type": "code",
   "execution_count": 6,
   "id": "80e81302-b8af-4e8b-bdbd-92d29181be3e",
   "metadata": {},
   "outputs": [],
   "source": [
    "import scipy.stats as stats"
   ]
  },
  {
   "cell_type": "code",
   "execution_count": 7,
   "id": "6cae6a7d-bd9a-479f-b822-b9595683f12b",
   "metadata": {},
   "outputs": [],
   "source": [
    "population_mean=11  # population mean under null hypothesis\n",
    "sample_size=1000    \n",
    "sample_mean=11.5\n",
    "population_std=2.3  # standard deviation of population\n",
    "alpha=0.05          #significance level"
   ]
  },
  {
   "cell_type": "code",
   "execution_count": 8,
   "id": "4c19053b-62bf-4f0f-b185-bdf231d5e115",
   "metadata": {},
   "outputs": [],
   "source": [
    "# calculate z test statistics\n",
    "z_score=(sample_mean-population_mean)/(population_std/(sample_size**0.5))"
   ]
  },
  {
   "cell_type": "code",
   "execution_count": 9,
   "id": "7bb29c3d-8b29-41c3-aab9-e3bb280fcf45",
   "metadata": {},
   "outputs": [],
   "source": [
    "# calculate the critical value\n",
    "critical_value=stats.norm.ppf(1-alpha)"
   ]
  },
  {
   "cell_type": "code",
   "execution_count": 10,
   "id": "b1018dff-1790-4533-b31f-84ee1a4fd1e7",
   "metadata": {},
   "outputs": [
    {
     "name": "stdout",
     "output_type": "stream",
     "text": [
      "Z_score :  6.874516652539955\n"
     ]
    }
   ],
   "source": [
    "# print the z score and critical value\n",
    "print(\"Z_score : \",z_score)"
   ]
  },
  {
   "cell_type": "code",
   "execution_count": 11,
   "id": "3fffddc0-6071-4c29-9d90-aaf72fe9e230",
   "metadata": {},
   "outputs": [
    {
     "name": "stdout",
     "output_type": "stream",
     "text": [
      "Critical_value : 1.6448536269514722\n"
     ]
    }
   ],
   "source": [
    "print(\"Critical_value :\",critical_value)"
   ]
  },
  {
   "cell_type": "code",
   "execution_count": 12,
   "id": "9f033fe4-f8fa-4e5b-b053-762f8035284a",
   "metadata": {},
   "outputs": [
    {
     "name": "stdout",
     "output_type": "stream",
     "text": [
      "Reject null hypothesis\n"
     ]
    }
   ],
   "source": [
    "# compare the z score with the critical value and make a decision\n",
    "if z_score>critical_value:\n",
    "    print(\"Reject null hypothesis\")\n",
    "else:\n",
    "    print(\"Fail to reject null hypothesis\")"
   ]
  },
  {
   "cell_type": "code",
   "execution_count": null,
   "id": "c8f0a0b2-141f-4c36-a780-785efdeb8d8a",
   "metadata": {},
   "outputs": [],
   "source": [
    "Q2. A coffee shop claims that their average wait time for customers is less than 5 minutes. To test this claim,\n",
    "a sample of 40 customers is taken, and their wait times are recorded. The sample mean wait time is found to be 4.6 minutes with\n",
    "a standard deviation of 0.8 minutes. Perform a hypothesis test at a significance level of 0.05 and determine whether there is enough evidence to support the coffee shop's claim.\n"
   ]
  },
  {
   "cell_type": "code",
   "execution_count": 18,
   "id": "c4ce0ca5-2729-436c-9ba0-c91d4370e089",
   "metadata": {},
   "outputs": [],
   "source": [
    "import scipy.stats as stats\n",
    "\n",
    "# Given data\n",
    "sample_mean = 4.6  # Sample mean wait time\n",
    "population_mean = 5  # Population mean under the null hypothesis\n",
    "sample_size = 40  # Sample size\n",
    "alpha = 0.05  # Significance level\n",
    "population_std=0.8 #SD of population\n",
    "\n"
   ]
  },
  {
   "cell_type": "code",
   "execution_count": 19,
   "id": "da48e169-0daf-461d-a973-19df14c380db",
   "metadata": {},
   "outputs": [],
   "source": [
    "# calculate the z test statistics\n",
    "z_score=(sample_mean-population_mean)/(population_std/(sample_size**0.05))"
   ]
  },
  {
   "cell_type": "code",
   "execution_count": 20,
   "id": "d05a690f-0ddd-4541-a050-17c81a725d4d",
   "metadata": {},
   "outputs": [],
   "source": [
    "# calculate the critical value\n",
    "critical_value=stats.norm.ppf(1-alpha)"
   ]
  },
  {
   "cell_type": "code",
   "execution_count": 21,
   "id": "f5051d94-3d0c-40ff-9add-9587c628f1ae",
   "metadata": {},
   "outputs": [
    {
     "name": "stdout",
     "output_type": "stream",
     "text": [
      "Z_score :  -0.601274801898418\n"
     ]
    }
   ],
   "source": [
    "# print the z_score and critical value\n",
    "print(\"Z_score : \",z_score)"
   ]
  },
  {
   "cell_type": "code",
   "execution_count": 22,
   "id": "485c955d-579c-4822-af6c-6dcdc6f2a577",
   "metadata": {},
   "outputs": [
    {
     "name": "stdout",
     "output_type": "stream",
     "text": [
      "Critical_value :  1.6448536269514722\n"
     ]
    }
   ],
   "source": [
    "print(\"Critical_value : \",critical_value)"
   ]
  },
  {
   "cell_type": "code",
   "execution_count": 23,
   "id": "fda78868-252a-4cc0-a984-3445608c7536",
   "metadata": {},
   "outputs": [
    {
     "name": "stdout",
     "output_type": "stream",
     "text": [
      "Reject null hypothesis\n"
     ]
    }
   ],
   "source": [
    "# compare z score with critical value and make a decision\n",
    "if z_score<critical_value:\n",
    "    print(\"Reject null hypothesis\")\n",
    "else:\n",
    "    print(\"Fail to reject null hypothesis\")"
   ]
  },
  {
   "cell_type": "code",
   "execution_count": null,
   "id": "5e1d921c-ed94-43b8-ba51-1867a9efea76",
   "metadata": {},
   "outputs": [],
   "source": []
  }
 ],
 "metadata": {
  "kernelspec": {
   "display_name": "Python 3 (ipykernel)",
   "language": "python",
   "name": "python3"
  },
  "language_info": {
   "codemirror_mode": {
    "name": "ipython",
    "version": 3
   },
   "file_extension": ".py",
   "mimetype": "text/x-python",
   "name": "python",
   "nbconvert_exporter": "python",
   "pygments_lexer": "ipython3",
   "version": "3.11.4"
  }
 },
 "nbformat": 4,
 "nbformat_minor": 5
}
